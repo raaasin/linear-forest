{
 "cells": [
  {
   "cell_type": "code",
   "execution_count": 72,
   "id": "da0be2b5-3c78-450e-b270-775b08695601",
   "metadata": {},
   "outputs": [],
   "source": [
    "import pandas as pd\n",
    "import matplotlib.pyplot as plt\n",
    "\n",
    "# Load the dataset\n",
    "data = pd.read_csv('data.csv')\n",
    "\n"
   ]
  },
  {
   "cell_type": "markdown",
   "id": "dc85e7c4-5618-4f2d-b373-db6b9674448a",
   "metadata": {},
   "source": [
    "# Testing"
   ]
  },
  {
   "cell_type": "code",
   "execution_count": 73,
   "id": "3106963c-4091-4c0b-bdfd-694e1d570e7f",
   "metadata": {},
   "outputs": [],
   "source": [
    "import numpy as np\n",
    "import matplotlib.pyplot as plt\n",
    "from sklearn.linear_model import LinearRegression\n",
    "import pandas as pd\n",
    "\n",
    "class MiniLinearForest:\n",
    "    def __init__(self, nearest_segments=2, nearest_weight=0.4, rest_weight=0.6):\n",
    "        self.intercepts = []\n",
    "        self.slopes = []\n",
    "        self.nearest_weight = nearest_weight\n",
    "        self.rest_weight = rest_weight\n",
    "        self.nearest_segments = nearest_segments\n",
    "\n",
    "    def train(self, data):\n",
    "        if isinstance(data, dict):\n",
    "            data = pd.DataFrame(data)\n",
    "\n",
    "        x = data['X'].values.reshape(-1, 1)\n",
    "        y = data['Y'].values.reshape(-1, 1)\n",
    "\n",
    "        sorted_indices = np.argsort(x.flatten())\n",
    "        x_sorted = x[sorted_indices]\n",
    "        y_sorted = y[sorted_indices]\n",
    "\n",
    "        for i in range(len(x_sorted) - 1):\n",
    "            lr = LinearRegression()\n",
    "            lr.fit(x_sorted[i:i+2], y_sorted[i:i+2])\n",
    "\n",
    "            self.intercepts.append(lr.intercept_[0])\n",
    "            self.slopes.append(lr.coef_[0][0])\n",
    "\n",
    "    def predict(self, new_x):\n",
    "        predicted_prices = []\n",
    "        for area in new_x:\n",
    "            nearest_weighted_sum = 0\n",
    "            rest_weighted_sum = 0\n",
    "            nearest_count = 0\n",
    "            rest_count = 0\n",
    "            \n",
    "            for i, slope in enumerate(self.slopes):\n",
    "                predicted_price = self.intercepts[i] + slope * area\n",
    "                if i < self.nearest_segments:  # Considering the nearest segments based on user input\n",
    "                    nearest_weighted_sum += self.nearest_weight * predicted_price\n",
    "                    nearest_count += 1\n",
    "                else:\n",
    "                    rest_weighted_sum += self.rest_weight * predicted_price\n",
    "                    rest_count += 1\n",
    "\n",
    "            if nearest_count > 0 and rest_count > 0:\n",
    "                weighted_avg_prediction = (nearest_weighted_sum / nearest_count) + (rest_weighted_sum / rest_count)\n",
    "            elif nearest_count > 0:\n",
    "                weighted_avg_prediction = nearest_weighted_sum / nearest_count\n",
    "            else:\n",
    "                weighted_avg_prediction = rest_weighted_sum / rest_count\n",
    "            \n",
    "            predicted_prices.append(weighted_avg_prediction)\n",
    "\n",
    "        return predicted_prices\n",
    "\n",
    "    def plot_predictions(self, data, new_x, predicted_prices):\n",
    "        plt.figure(figsize=(8, 6))\n",
    "        plt.scatter(data['X'], data['Y'], label='Original Data')\n",
    "        plt.title('Piecewise Linear Model with Predicted Values (Weighted Aggregation)')\n",
    "        plt.xlabel('X')\n",
    "        plt.ylabel('Y')\n",
    "        plt.grid(True)\n",
    "\n",
    "        for i in range(len(self.intercepts)):\n",
    "            plt.plot([data['X'].iloc[i], data['X'].iloc[i+1]], \n",
    "                     [self.intercepts[i] + self.slopes[i] * data['X'].iloc[i], self.intercepts[i] + self.slopes[i] * data['X'].iloc[i+1]], \n",
    "                     c='r')\n",
    "\n",
    "        plt.scatter(new_x, predicted_prices, c='g', marker='o', label='Predicted Values')\n",
    "        plt.legend()\n",
    "        plt.show()\n",
    "\n"
   ]
  },
  {
   "cell_type": "code",
   "execution_count": null,
   "id": "856f10d1-2edc-4a7b-84e7-33663c919f33",
   "metadata": {},
   "outputs": [],
   "source": [
    "data = {'X': [1, 2, 3, 4, 5], 'Y': [2, 3, 5, 7, 9]}  # Sample X and Y values\n",
    "new_x = [1.5, 2.5, 3.5, 6] #new values\n",
    "forest = MiniLinearForest(nearest_segments=3, nearest_weight=0.7, rest_weight=0.3)\n",
    "forest.train(data)\n",
    "predicted_prices = forest.predict(new_x)\n",
    "forest.plot_predictions(pd.DataFrame(data), new_x, predicted_prices)\n"
   ]
  }
 ],
 "metadata": {
  "kernelspec": {
   "display_name": "Python 3 (ipykernel)",
   "language": "python",
   "name": "python3"
  },
  "language_info": {
   "codemirror_mode": {
    "name": "ipython",
    "version": 3
   },
   "file_extension": ".py",
   "mimetype": "text/x-python",
   "name": "python",
   "nbconvert_exporter": "python",
   "pygments_lexer": "ipython3",
   "version": "3.10.0"
  }
 },
 "nbformat": 4,
 "nbformat_minor": 5
}
